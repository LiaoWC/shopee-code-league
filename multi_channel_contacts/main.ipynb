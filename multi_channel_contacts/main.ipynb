{
 "cells": [
  {
   "cell_type": "markdown",
   "metadata": {
    "collapsed": true,
    "pycharm": {
     "name": "#%% md\n"
    }
   },
   "source": [
    "# Shopee Code League - Multi-Channel Contacts\n",
    "Data Analytics Challenge\n",
    "March, 2021\n",
    "\n",
    "Contributors of this code:\n",
    "- [LiaoWC](https://github.com/LiaoWC)\n",
    "- [Ch1sInTheHouse](https://github.com/Chr1sInTheHouse)\n",
    "\n",
    "Kaggle page: https://www.kaggle.com/c/scl-2021-da/overview\n",
    "\n",
    "### Method\n",
    "We know that all tickets are unique, and that any two people have the same phone, email, or order ID are exactly the same people.\n",
    "Let's view all tickets as different nodes(vertices).\n",
    "We check phone, email, and order ID. If any two ticket are belong to the same person, we construct a\n",
    "undirected edge between them. Finally, we find the graph's connected components.\n",
    "Each unique user has a corresponding connected components.\n",
    "\n",
    "\n",
    "### Time complexity\n",
    "\n",
    "Assume number of total tickets is `n`.\n",
    "\n",
    "Sorting takes `O(nlogn)` time.<br>\n",
    "Getting edges by iterating takes `O(n)` time.<br>\n",
    "Finding connected component takes `o(n^2)` time[1].<br>\n",
    "Grouping takes `O(nlogn)` time.<br>\n",
    "Finding group data and write file takes `O(nlogn)` time.<br>\n",
    "\n",
    "The total time complexity is `o(n^2)`.\n",
    "\n",
    "---\n",
    "[1] Common ways of finding connected components like Tarjan's algorithm\n",
    "using adjacent list takes not more than `O(number of vertices + number of edges)`.\n",
    "In this case, we use `scipy`'s connected component function. We've tested that it seems not take\n",
    "up to n^2 time and it's fast. If you're interested in the algorithm, you can find more information about how `scipy`\n",
    "implements this function.\n"
   ]
  },
  {
   "cell_type": "code",
   "execution_count": 16,
   "outputs": [],
   "source": [
    "# Import packages\n",
    "import scipy\n",
    "from scipy import sparse\n",
    "from scipy.sparse.csgraph import connected_components\n",
    "import matplotlib.pyplot as plt\n",
    "import csv\n",
    "import pandas as pd\n",
    "import numpy as np"
   ],
   "metadata": {
    "collapsed": false,
    "pycharm": {
     "name": "#%%\n"
    }
   }
  },
  {
   "cell_type": "code",
   "execution_count": 17,
   "outputs": [],
   "source": [
    "# Load data\n",
    "df = pd.read_json('./contacts.json')"
   ],
   "metadata": {
    "collapsed": false,
    "pycharm": {
     "name": "#%%\n"
    }
   }
  },
  {
   "cell_type": "markdown",
   "source": [
    "### Find out all adjacent edges\n",
    "Check three columns: email, phone, and order ID respectively.\n",
    "For each column, we sort first, and then iterate one time to get edges.\n",
    "Note that for every connected component, we just need at least one path that any nodes can go to any other nodes.\n",
    "That is, if node 1, 2, 3, 4 are connected component,\n",
    "we just need [1 -> 2], [1 -> 3], [1 -> 4] to show they are belong to the same connected component.\n",
    "##### Example\n",
    "If node 1, 2, 3, 4 have the same email, after sorting it by email,\n",
    "they will be arranged like this:\n",
    "```\n",
    "node 1\n",
    "node 2\n",
    "node 3\n",
    "node 4\n",
    "```\n",
    "and we will create edges: [1 -> 2], [1 -> 3], [1 -> 4] in the next iterating phase.\n"
   ],
   "metadata": {
    "collapsed": false,
    "pycharm": {
     "name": "#%% md\n"
    }
   }
  },
  {
   "cell_type": "code",
   "execution_count": 18,
   "outputs": [],
   "source": [
    "# Sort\n",
    "Email = df.sort_values(by=['Email']).to_numpy()[:, (0, 1)]\n",
    "Phone = df.sort_values(by=['Phone']).to_numpy()[:, (0, 2)]\n",
    "OrderId = df.sort_values(by=['OrderId']).to_numpy()[:, (0, 4)]\n",
    "\n",
    "# Get edges by observing email\n",
    "gr = []\n",
    "now_mail = Email[0]\n",
    "for i in range(1, 500000):\n",
    "    if Email[i][1] == now_mail[1] and now_mail[1] !='':\n",
    "        gr.append([Email[i][0], now_mail[0]])\n",
    "    else:\n",
    "        now_mail = Email[i]\n",
    "\n",
    "# Get edges by observing phone\n",
    "now_mail = Phone[0]\n",
    "for i in range(1, 500000):\n",
    "    if Phone[i][1] == now_mail[1] and now_mail[1] !='':\n",
    "        gr.append([Phone[i][0], now_mail[0]])\n",
    "    else:\n",
    "        now_mail = Phone[i]\n",
    "\n",
    "# Get edges by observing order ID\n",
    "now_mail = OrderId[0]\n",
    "for i in range(1, 500000):\n",
    "    if OrderId[i][1] == now_mail[1] and now_mail[1] !='':\n",
    "        gr.append([OrderId[i][0], now_mail[0]])\n",
    "    else:\n",
    "        now_mail = OrderId[i]"
   ],
   "metadata": {
    "collapsed": false,
    "pycharm": {
     "name": "#%%\n"
    }
   }
  },
  {
   "cell_type": "markdown",
   "source": [
    "### Get sparse matrix that represent\n",
    "We get sparse matrix using the method from the reference:\n",
    "https://stackoverflow.com/questions/38665388/how-to-read-in-an-edge-list-to-make-a-scipy-sparse-matrix"
   ],
   "metadata": {
    "collapsed": false,
    "pycharm": {
     "name": "#%% md\n"
    }
   }
  },
  {
   "cell_type": "code",
   "execution_count": 19,
   "outputs": [],
   "source": [
    "# Add self-connected edge to make matrix be square.\n",
    "for i in range(500000):\n",
    "    gr.append([i, i])\n"
   ],
   "metadata": {
    "collapsed": false,
    "pycharm": {
     "name": "#%%\n"
    }
   }
  },
  {
   "cell_type": "code",
   "execution_count": 20,
   "outputs": [],
   "source": [
    "# For conveniently getting ticket info\n",
    "def get_ticket_data_by_id(id_num: int):\n",
    "    return df.loc[df['Id'] == id_num]"
   ],
   "metadata": {
    "collapsed": false,
    "pycharm": {
     "name": "#%%\n"
    }
   }
  },
  {
   "cell_type": "code",
   "execution_count": 21,
   "outputs": [],
   "source": [
    "# Give all edges and get csr matrix and number of components and labels\n",
    "def to_m(edges):\n",
    "    arr = np.array(edges)\n",
    "    k1, k2, k3=np.unique(arr,return_inverse=True,return_index=True)\n",
    "    rows, cols=k3.reshape(arr.shape).T\n",
    "    mat = sparse.coo_matrix((np.ones(rows.shape,int),(rows,cols)))\n",
    "    csr_mat = mat.tocsr()\n",
    "    # return csr_mat\n",
    "    n_components, labels = connected_components(csgraph=csr_mat, directed=False, return_labels=True)\n",
    "    return csr_mat, n_components, labels\n",
    "\n",
    "m, n_c, lab = to_m(gr)\n",
    "# Use \"m.A\" to show\n",
    "# m: sparse matrix\n",
    "# n_c: number of different people\n",
    "# lab: array which shows every ticket (idx is ticket_id)'s group_id. (groups means people here)"
   ],
   "metadata": {
    "collapsed": false,
    "pycharm": {
     "name": "#%%\n"
    }
   }
  },
  {
   "cell_type": "markdown",
   "source": [
    "### Grouping"
   ],
   "metadata": {
    "collapsed": false,
    "pycharm": {
     "name": "#%% md\n"
    }
   }
  },
  {
   "cell_type": "code",
   "execution_count": 22,
   "outputs": [],
   "source": [
    "# Binding with ticket_id and sorting it allow us to group in O(n)\n",
    "lab_idx_and_ticket_id = []\n",
    "for i, g_id in enumerate(lab):\n",
    "    lab_idx_and_ticket_id.append([g_id, i])\n",
    "\n",
    "lab_idx_and_ticket_id.sort()"
   ],
   "metadata": {
    "collapsed": false,
    "pycharm": {
     "name": "#%%\n"
    }
   }
  },
  {
   "cell_type": "code",
   "execution_count": 23,
   "outputs": [
    {
     "name": "stdout",
     "output_type": "stream",
     "text": [
      "group: 0; from 0\n",
      "group: 11679; from 40000\n",
      "group: 33061; from 100000\n",
      "group: 41139; from 120000\n",
      "group: 49719; from 140000\n",
      "group: 58625; from 160000\n",
      "group: 82779; from 210000\n",
      "group: 87941; from 220000\n",
      "group: 109776; from 260000\n",
      "group: 115583; from 270000\n",
      "group: 127485; from 290000\n",
      "group: 133734; from 300000\n",
      "group: 140133; from 310000\n",
      "group: 146645; from 320000\n",
      "group: 153241; from 330000\n",
      "group: 159980; from 340000\n",
      "group: 173935; from 360000\n",
      "group: 181142; from 370000\n",
      "group: 188443; from 380000\n",
      "group: 195897; from 390000\n",
      "group: 203675; from 400000\n",
      "group: 211574; from 410000\n",
      "group: 219663; from 420000\n",
      "group: 227943; from 430000\n",
      "group: 236400; from 440000\n",
      "group: 245105; from 450000\n",
      "group: 254012; from 460000\n",
      "group: 263120; from 470000\n",
      "group: 272453; from 480000\n",
      "group: 282049; from 490000\n"
     ]
    }
   ],
   "source": [
    "# Grouping (group info of tickets that belong to the same user)\n",
    "# It takes lots of time.\n",
    "\n",
    "max_group_idx = max(lab)\n",
    "\n",
    "# group_idx -> {'ticket_ids': [...], 'ticket_trace': str, 'contact': int}\n",
    "all_groups = {}\n",
    "\n",
    "cur_idx = 0\n",
    "for group_idx in range(0,max_group_idx + 1):\n",
    "    group = {}\n",
    "    cur_ticket_trace = ''\n",
    "    cur_contact_sum = 0\n",
    "    ticket_ids = []\n",
    "    if cur_idx % 10000 == 0:\n",
    "        # Print info to know the current progress\n",
    "        print('group: {}; from {}'.format(group_idx, cur_idx))\n",
    "    for idx in range(cur_idx, len(lab)):\n",
    "        if lab_idx_and_ticket_id[idx][0] == group_idx:\n",
    "            ticket_id = lab_idx_and_ticket_id[idx][1]\n",
    "            ticket_data = get_ticket_data_by_id(ticket_id)\n",
    "            cur_ticket_trace += '-' + str(ticket_id)\n",
    "            cur_contact_sum += ticket_data['Contacts'].tolist()[0]\n",
    "            ticket_ids.append(ticket_id)\n",
    "        cur_idx += 1\n",
    "        if cur_idx >= 500000 or lab_idx_and_ticket_id[cur_idx][0] != group_idx:\n",
    "            break\n",
    "    group['ticket_ids'] = ticket_ids\n",
    "    group['ticket_trace'] = cur_ticket_trace[1:] # Remove first dash\n",
    "    group['contact'] = cur_contact_sum\n",
    "    all_groups[group_idx] = group"
   ],
   "metadata": {
    "collapsed": false,
    "pycharm": {
     "name": "#%%\n"
    }
   }
  },
  {
   "cell_type": "markdown",
   "source": [
    "### Get answers and write csv file"
   ],
   "metadata": {
    "collapsed": false,
    "pycharm": {
     "name": "#%% md\n"
    }
   }
  },
  {
   "cell_type": "code",
   "execution_count": 24,
   "outputs": [],
   "source": [
    "# Sorting it to make us take only O(n) to get things by iterating it in O(n)\n",
    "arr = sorted(lab_idx_and_ticket_id,key=lambda x:x[1])"
   ],
   "metadata": {
    "collapsed": false,
    "pycharm": {
     "name": "#%%\n"
    }
   }
  },
  {
   "cell_type": "code",
   "execution_count": 25,
   "outputs": [],
   "source": [
    "# Save answers in csv file\n",
    "\n",
    "# Type filename\n",
    "file_name = input()\n",
    "with open('{}.csv'.format(file_name), 'w+') as file:\n",
    "    writer = csv.writer(file)\n",
    "    # Write column info\n",
    "    writer.writerow(['ticket_id','ticket_trace/contact'])\n",
    "    # Iterate to get group id to get group's data and write into the csv file\n",
    "    for ticket_id in range(0,len(lab)):\n",
    "        try:\n",
    "            group_id = arr[ticket_id][0]\n",
    "            group = all_groups[group_id]\n",
    "            # if ticket_id in group['ticket_ids']:\n",
    "            writer.writerow([ticket_id, group['ticket_trace']+', '+str(group['contact'])])\n",
    "        except:\n",
    "            pass"
   ],
   "metadata": {
    "collapsed": false,
    "pycharm": {
     "name": "#%%\n"
    }
   }
  },
  {
   "cell_type": "code",
   "execution_count": null,
   "outputs": [],
   "source": [],
   "metadata": {
    "collapsed": false,
    "pycharm": {
     "name": "#%%\n"
    }
   }
  }
 ],
 "metadata": {
  "kernelspec": {
   "name": "pycharm-5a60a1fb",
   "language": "python",
   "display_name": "PyCharm (open_house_edit_pingfeng)"
  },
  "language_info": {
   "codemirror_mode": {
    "name": "ipython",
    "version": 2
   },
   "file_extension": ".py",
   "mimetype": "text/x-python",
   "name": "python",
   "nbconvert_exporter": "python",
   "pygments_lexer": "ipython2",
   "version": "2.7.6"
  }
 },
 "nbformat": 4,
 "nbformat_minor": 0
}